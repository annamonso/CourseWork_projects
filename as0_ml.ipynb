{
 "cells": [
  {
   "cell_type": "markdown",
   "id": "31db0f57",
   "metadata": {},
   "source": [
    "Assigment 0\n",
    "\n",
    "Anna Monso Rodriguez \n",
    "\n",
    "A20653296\n",
    "\n",
    "CS-584\n",
    "\n",
    "Fall semester"
   ]
  },
  {
   "cell_type": "markdown",
   "id": "46e8624a",
   "metadata": {},
   "source": [
    "PART A: Vector Operations"
   ]
  },
  {
   "cell_type": "code",
   "execution_count": 22,
   "id": "ad5e1c1d",
   "metadata": {},
   "outputs": [
    {
     "name": "stdout",
     "output_type": "stream",
     "text": [
      "3p + 2q = [6, 3, 22]\n"
     ]
    }
   ],
   "source": [
    "# Definitions \n",
    "\n",
    "p = [2, -1, 4]\n",
    "q = [0, 3,  5]\n",
    "r = [1, -2, 2]\n",
    "\n",
    "#1.  3p + 2q\n",
    "res1 = [0]*len(p)\n",
    "for i in range(len(p)):\n",
    "    res1[i]=3*p[i]+2*q[i]\n",
    "print(\"3p + 2q =\", res1)"
   ]
  },
  {
   "cell_type": "code",
   "execution_count": 23,
   "id": "5300c698",
   "metadata": {},
   "outputs": [
    {
     "name": "stdout",
     "output_type": "stream",
     "text": [
      "p2, a unit vector in the direction of p = [0.4364357804719848, -0.2182178902359924, 0.8728715609439696]\n"
     ]
    }
   ],
   "source": [
    "#2. p a unit vector in the direction of p\n",
    "# module of p\n",
    "import math \n",
    "mod_p = math.sqrt(sum([x**2 for x in p]))\n",
    "p_res = [x/mod_p for x in p]\n",
    "print(\"p2, a unit vector in the direction of p =\", p_res)"
   ]
  },
  {
   "cell_type": "code",
   "execution_count": 24,
   "id": "6f85b20f",
   "metadata": {},
   "outputs": [
    {
     "name": "stdout",
     "output_type": "stream",
     "text": [
      "module of p = 4.58257569495584\n",
      "angle of p with y-axis  1.790784304190356\n"
     ]
    }
   ],
   "source": [
    "#3. module of p and the angle of p relative to the positive y-axis \n",
    "import numpy as np\n",
    "print(\"module of p =\", mod_p)\n",
    "\n",
    "y = np.array([0, 1, 0])\n",
    "mod_y = math.sqrt(sum([x**2 for x in y]))\n",
    "cos_p = np.dot(p,y)/(mod_p*mod_y)\n",
    "angle_p = math.acos(cos_p)\n",
    "print(\"angle of p with y-axis \", angle_p)"
   ]
  },
  {
   "cell_type": "code",
   "execution_count": 25,
   "id": "83225d64",
   "metadata": {},
   "outputs": [
    {
     "name": "stdout",
     "output_type": "stream",
     "text": [
      "Direction of the cosines of p [0.4364357804719848, -0.2182178902359924, 0.8728715609439696]\n"
     ]
    }
   ],
   "source": [
    "# 4. Direction of the cosines of p \n",
    "cos_p = [x/mod_p for x in p]\n",
    "print(\"Direction of the cosines of p\", cos_p)"
   ]
  },
  {
   "cell_type": "code",
   "execution_count": 28,
   "id": "66246b93",
   "metadata": {},
   "outputs": [
    {
     "name": "stdout",
     "output_type": "stream",
     "text": [
      "Angle between p and q 0.8812217608851565\n"
     ]
    }
   ],
   "source": [
    "# 5. The angle between p and q\n",
    "mod_q = math.sqrt(sum([x**2 for x in q]))\n",
    "cos_pq = np.dot(p,q)/(mod_p*mod_q)\n",
    "angle_pq = math.acos(cos_pq)\n",
    "print(\"Angle between p and q\", angle_pq)"
   ]
  },
  {
   "cell_type": "code",
   "execution_count": 29,
   "id": "1bf81e34",
   "metadata": {},
   "outputs": [
    {
     "name": "stdout",
     "output_type": "stream",
     "text": [
      "p · q =  17\n",
      "q · p =  17\n"
     ]
    }
   ],
   "source": [
    "# 6. p·q and q·p \n",
    "pq = np.dot(p,q)\n",
    "qp = np.dot(q,p)\n",
    "print(\"p · q = \", pq)\n",
    "print(\"q · p = \", qp)"
   ]
  },
  {
   "cell_type": "code",
   "execution_count": 30,
   "id": "63b521e6",
   "metadata": {},
   "outputs": [
    {
     "name": "stdout",
     "output_type": "stream",
     "text": [
      "p · q =  17.0\n"
     ]
    }
   ],
   "source": [
    "# 7. p · q using the angle between p and q \n",
    "pq = cos_pq*mod_p*mod_q\n",
    "print(\"p · q = \", pq)"
   ]
  },
  {
   "cell_type": "code",
   "execution_count": 31,
   "id": "f2e4b1bf",
   "metadata": {},
   "outputs": [
    {
     "name": "stdout",
     "output_type": "stream",
     "text": [
      "Escalar projection of q onto p 3.709704134011871\n"
     ]
    }
   ],
   "source": [
    "# 8. The scalar projection of q onto p \n",
    "proj_q = pq/mod_p\n",
    "print(\"Escalar projection of q onto p\", proj_q)"
   ]
  },
  {
   "cell_type": "code",
   "execution_count": 33,
   "id": "5e588951",
   "metadata": {},
   "outputs": [
    {
     "name": "stdout",
     "output_type": "stream",
     "text": [
      "p and s are perpendicular, because the dot product is =  0\n"
     ]
    }
   ],
   "source": [
    "# 9. A vector that is perpendicular to both p and q \n",
    "s = [0,4,1]\n",
    "res = np.dot(p,s)\n",
    "print(\"p and s are perpendicular, because the dot product is = \", res)"
   ]
  },
  {
   "cell_type": "code",
   "execution_count": null,
   "id": "9e54ab8c",
   "metadata": {},
   "outputs": [
    {
     "name": "stdout",
     "output_type": "stream",
     "text": [
      "p x q  [-17 -10   6]\n",
      "[17 10 -6]\n"
     ]
    }
   ],
   "source": [
    "# 10. p x q and q x p \n",
    "pq_cross = np.cross(p,q)\n",
    "print(\"p x q \", pq_cross)\n",
    "\n",
    "qp_cross = np.cross(q,p)\n",
    "print(\"q x p \", qp_cross)"
   ]
  },
  {
   "cell_type": "code",
   "execution_count": null,
   "id": "34275876",
   "metadata": {},
   "outputs": [],
   "source": [
    "# 11. A vector perpendicular to both p and q \n",
    "# the cross product between p and q is perpendicular to both, we can prove it \n",
    "\n",
    "res1 = np.dot(p, pq_cross)\n",
    "print(\"p and p x q are perpendicular res = \", res1)"
   ]
  },
  {
   "cell_type": "code",
   "execution_count": 37,
   "id": "d9d02b54",
   "metadata": {},
   "outputs": [
    {
     "name": "stdout",
     "output_type": "stream",
     "text": [
      "The determinant is different to 0, meaning that are independent\n"
     ]
    }
   ],
   "source": [
    "# 12. The linear dependency between p,q, and r \n",
    "matrix = np.stack([p,q,r])\n",
    "det = np.linalg.det(matrix)\n",
    "if det==0:\n",
    "    print(\"The determinant is equal to 0, meaning that are dependent\")\n",
    "else:\n",
    "    print(\"The determinant is different to 0, meaning that are independent\")"
   ]
  },
  {
   "cell_type": "code",
   "execution_count": 56,
   "id": "45a28fe2",
   "metadata": {},
   "outputs": [
    {
     "name": "stdout",
     "output_type": "stream",
     "text": [
      "17\n",
      "[[ 0  6 10]\n",
      " [ 0 -3 -5]\n",
      " [ 0 12 20]]\n"
     ]
    }
   ],
   "source": [
    "# 13. pTq\n",
    "p = np.array([2, -1, 4])  \n",
    "q = np.array([0, 3, 5])\n",
    "res = np.dot(p,q)\n",
    "print(res)\n",
    "\n",
    "p_col = p.reshape(-1,1)   # (3,1)\n",
    "q_row = q.reshape(1,-1)   # (1,3)\n",
    "\n",
    "pqT = p_col @ q_row       \n",
    "print(pqT)\n"
   ]
  },
  {
   "cell_type": "markdown",
   "id": "44c05f33",
   "metadata": {},
   "source": [
    "PART B: Matrix Operations\n",
    "\n"
   ]
  },
  {
   "cell_type": "code",
   "execution_count": 60,
   "id": "e88db6e1",
   "metadata": {},
   "outputs": [],
   "source": [
    "X = np.stack([[2,1,0],[-1,3,4],[3,2,-2]])\n",
    "Y = np.stack([[4,-1,2],[3,0,-3],[1,2,1]])\n",
    "Z = np.stack([[2,0,-1],[1,4,5],[3,1,2]])\n",
    "s = np.array([-1,4,0])"
   ]
  },
  {
   "cell_type": "code",
   "execution_count": 62,
   "id": "c7099eed",
   "metadata": {},
   "outputs": [
    {
     "data": {
      "text/plain": [
       "array([[10, -1,  4],\n",
       "       [ 5,  3, -2],\n",
       "       [ 5,  6,  0]])"
      ]
     },
     "execution_count": 62,
     "metadata": {},
     "output_type": "execute_result"
    }
   ],
   "source": [
    "# 1. X +2Y\n",
    "res = X + 2*Y\n",
    "res"
   ]
  },
  {
   "cell_type": "code",
   "execution_count": 68,
   "id": "8567f1c7",
   "metadata": {},
   "outputs": [
    {
     "name": "stdout",
     "output_type": "stream",
     "text": [
      "result XY [[11 -2  1]\n",
      " [ 9  9 -7]\n",
      " [16 -7 -2]]\n",
      "result YX  [[15  5 -8]\n",
      " [-3 -3  6]\n",
      " [ 3  9  6]]\n"
     ]
    }
   ],
   "source": [
    "#2. XY and YX\n",
    "XY = X@Y\n",
    "print(\"result XY\",XY)\n",
    "\n",
    "YX = Y@X\n",
    "print(\"result YX \",YX)"
   ]
  },
  {
   "cell_type": "code",
   "execution_count": null,
   "id": "64022cfd",
   "metadata": {},
   "outputs": [
    {
     "name": "stdout",
     "output_type": "stream",
     "text": [
      "XY transpose  [[11  9 16]\n",
      " [-2  9 -7]\n",
      " [ 1 -7 -2]]\n",
      "XtYt   [[11  9 16]\n",
      " [-2  9 -7]\n",
      " [ 1 -7 -2]]\n"
     ]
    }
   ],
   "source": [
    "#3. (XY)T and YtXt\n",
    "\n",
    "print(\"XY transpose \", XYT)\n",
    "\n",
    "YtXt = XYT\n",
    "print(\"XtYt  \", XYT)"
   ]
  },
  {
   "cell_type": "code",
   "execution_count": 71,
   "id": "5c140f25",
   "metadata": {},
   "outputs": [
    {
     "name": "stdout",
     "output_type": "stream",
     "text": [
      "|X|  -17.999999999999996\n",
      "|Z|  17.0\n"
     ]
    }
   ],
   "source": [
    "# 4. |X| and |Z| \n",
    "detX = np.linalg.det(X)\n",
    "print(\"|X| \", detX)\n",
    "\n",
    "detZ = np.linalg.det(Z)\n",
    "print(\"|Z| \", detZ)\n"
   ]
  },
  {
   "cell_type": "code",
   "execution_count": 79,
   "id": "c203838b",
   "metadata": {},
   "outputs": [
    {
     "name": "stdout",
     "output_type": "stream",
     "text": [
      "X is not orthogonal\n",
      "Y is not orthogonal\n",
      "Z is not orthogonal\n"
     ]
    }
   ],
   "source": [
    "# 5. The matrix (either X, Y, or Z) in which the row vectors form an orthogonal set\n",
    "\n",
    "def rows_are_orthogonal(M):\n",
    "    rows = M.shape[0]\n",
    "    for i in range(rows):\n",
    "        for j in range(i+1, rows):\n",
    "            if np.dot(M[i], M[j]) != 0:\n",
    "                return False\n",
    "    return True\n",
    "\n",
    "if rows_are_orthogonal(X):\n",
    "    print(\"X is orthogonal\")\n",
    "else: \n",
    "    print(\"X is not orthogonal\")\n",
    "    \n",
    "if rows_are_orthogonal(Y):\n",
    "    print(\"Y is orthogonal\")\n",
    "else: \n",
    "    print(\"Y is not orthogonal\")\n",
    "    \n",
    "if rows_are_orthogonal(Z):\n",
    "    print(\"Z is orthogonal\")\n",
    "else: \n",
    "    print(\"Z is not orthogonal\")"
   ]
  },
  {
   "cell_type": "code",
   "execution_count": null,
   "id": "0e48a1cd",
   "metadata": {},
   "outputs": [
    {
     "name": "stdout",
     "output_type": "stream",
     "text": [
      "Xinv [[ 0.77777778 -0.11111111 -0.22222222]\n",
      " [-0.55555556  0.22222222  0.44444444]\n",
      " [ 0.61111111  0.05555556 -0.38888889]]\n",
      "Yinv [[ 0.14285714  0.11904762  0.07142857]\n",
      " [-0.14285714  0.04761905  0.42857143]\n",
      " [ 0.14285714 -0.21428571  0.07142857]]\n",
      "Zinv [[ 0.17647059 -0.05882353  0.23529412]\n",
      " [ 0.76470588  0.41176471 -0.64705882]\n",
      " [-0.64705882 -0.11764706  0.47058824]]\n"
     ]
    }
   ],
   "source": [
    "# 6/7. Xinv Yinv Zinv\n",
    "Xinv = np.linalg.inv(X)\n",
    "print(\"Xinv\", Xinv)\n",
    "\n",
    "Yinv = np.linalg.inv(Y)\n",
    "print(\"Yinv\", Yinv)\n",
    "\n",
    "Zinv = np.linalg.inv(Z)\n",
    "print(\"Zinv\", Zinv)"
   ]
  },
  {
   "cell_type": "code",
   "execution_count": null,
   "id": "b8810cb8",
   "metadata": {},
   "outputs": [
    {
     "data": {
      "text/plain": [
       "array([ 2, 13,  5])"
      ]
     },
     "execution_count": 76,
     "metadata": {},
     "output_type": "execute_result"
    }
   ],
   "source": [
    "# 9. The product of Xs\n",
    "X@s"
   ]
  },
  {
   "cell_type": "code",
   "execution_count": 81,
   "id": "d8d14699",
   "metadata": {},
   "outputs": [
    {
     "name": "stdout",
     "output_type": "stream",
     "text": [
      "The scalar projection is scalar projection is  [0.48507125 3.15296313 1.21267813]\n"
     ]
    }
   ],
   "source": [
    "#10. The scalar projection of the rows of Xonto the vector s\n",
    "modS = np.linalg.norm(s)\n",
    "rowsX = X.shape[0]\n",
    "res=[]\n",
    "for i in range(rowsX):\n",
    "    r=np.dot(X[i],s)\n",
    "    res.append(r)\n",
    "scalarproj=res/modS\n",
    "print(\"The scalar projection is scalar projection is \", scalarproj)\n",
    "\n",
    "\n"
   ]
  },
  {
   "cell_type": "code",
   "execution_count": 105,
   "id": "8a833569",
   "metadata": {},
   "outputs": [
    {
     "name": "stdout",
     "output_type": "stream",
     "text": [
      "[[-0.11764706  0.47058824  0.        ]\n",
      " [-0.76470588  3.05882353  0.        ]\n",
      " [-0.29411765  1.17647059  0.        ]]\n"
     ]
    }
   ],
   "source": [
    "# 10. The vector projection of the rows of X onto the vector s (with s normalized)\n",
    "rowsX = X.shape[0]\n",
    "k = (X @ s) / (s @ s)          \n",
    "projections = k[:, None] * s   \n",
    "print(projections)"
   ]
  },
  {
   "cell_type": "code",
   "execution_count": null,
   "id": "d694ca29",
   "metadata": {},
   "outputs": [
    {
     "data": {
      "text/plain": [
       "array([ 2, 13,  5])"
      ]
     },
     "execution_count": 86,
     "metadata": {},
     "output_type": "execute_result"
    }
   ],
   "source": [
    "# 11. Linear combination of columns of X using the elements of s\n",
    "c1 = X[:,0]\n",
    "c2 = X[:,1]\n",
    "c3 = X[:,2]\n",
    "res = s[0]*c1 + s[1]*c2 + s[2]*c3\n",
    "print(\"linear combination, \", res)"
   ]
  },
  {
   "cell_type": "code",
   "execution_count": 89,
   "id": "7cf349de",
   "metadata": {},
   "outputs": [
    {
     "name": "stdout",
     "output_type": "stream",
     "text": [
      "t is  [ 0.33333333  0.33333333 -1.        ]\n"
     ]
    }
   ],
   "source": [
    "# 12. Yt = s\n",
    "t = Yinv@s \n",
    "print( \"t is \", t)"
   ]
  },
  {
   "cell_type": "code",
   "execution_count": 90,
   "id": "13b77c01",
   "metadata": {},
   "outputs": [
    {
     "name": "stdout",
     "output_type": "stream",
     "text": [
      "t is equal to  [-0.41176471  0.88235294  0.17647059]\n"
     ]
    }
   ],
   "source": [
    "#13. Zt = s\n",
    "t = Zinv@s\n",
    "print(\"t is equal to \", t)"
   ]
  },
  {
   "cell_type": "markdown",
   "id": "99dd75db",
   "metadata": {},
   "source": [
    "PART C: Eigenvalues and Eigenvectors"
   ]
  },
  {
   "cell_type": "code",
   "execution_count": 92,
   "id": "21056055",
   "metadata": {},
   "outputs": [],
   "source": [
    "M = np.stack([[3,2],[-1,4]])\n",
    "N = np.stack([[5,-3],[-3,6]])\n",
    "P = np.stack([[2,4],[4,8]])"
   ]
  },
  {
   "cell_type": "code",
   "execution_count": 104,
   "id": "e1e29c8b",
   "metadata": {},
   "outputs": [
    {
     "name": "stdout",
     "output_type": "stream",
     "text": [
      "Eigenvlaues are,  [3.5+1.32287566j 3.5-1.32287566j]\n",
      "Eigenvectors are  [[0.81649658+0.j         0.81649658-0.j        ]\n",
      " [0.20412415+0.54006172j 0.20412415-0.54006172j]]\n"
     ]
    }
   ],
   "source": [
    "# 1. Eigenvalues and eigenvectors of M \n",
    "eig = np.linalg.eig(M)\n",
    "print(\"Eigenvlaues are, \",eig[0])\n",
    "print(\"Eigenvectors are \", eig[1])\n"
   ]
  },
  {
   "cell_type": "code",
   "execution_count": null,
   "id": "e01492ba",
   "metadata": {},
   "outputs": [
    {
     "name": "stdout",
     "output_type": "stream",
     "text": [
      "the dot product between the eigenvectors of M is  (14+0j)\n"
     ]
    }
   ],
   "source": [
    "#2. The dot product between the eigenvectors of M\n",
    "\n",
    "eigenvalues = eig[0]\n",
    "res = np.dot(eigenvalues[0], eigenvalues[1])\n",
    "print(\"the dot product between the eigenvectors of M is \", res)"
   ]
  },
  {
   "cell_type": "code",
   "execution_count": 101,
   "id": "1c08e408",
   "metadata": {},
   "outputs": [
    {
     "name": "stdout",
     "output_type": "stream",
     "text": [
      "the dot product between the eigenvectors of M is  20.999999999999996\n"
     ]
    }
   ],
   "source": [
    "# 3. The dot product between the eigenvectors of N\n",
    "eigN = np.linalg.eig(N)\n",
    "eigenvaluesN = eigN[0]\n",
    "res = np.dot(eigenvaluesN[0], eigenvaluesN[1])\n",
    "print(\"the dot product between the eigenvectors of M is \", res)"
   ]
  },
  {
   "cell_type": "code",
   "execution_count": null,
   "id": "e91d8272",
   "metadata": {},
   "outputs": [],
   "source": [
    "#4. Since the matrix N is symetric the eigenvalues are orthogonal "
   ]
  },
  {
   "cell_type": "code",
   "execution_count": 103,
   "id": "0bce214d",
   "metadata": {},
   "outputs": [
    {
     "name": "stdout",
     "output_type": "stream",
     "text": [
      "trivial solutions  [0. 0.]\n",
      "Non trivial solutions  [-2.  1.] [ 2. -1.]\n"
     ]
    }
   ],
   "source": [
    "# 5. Pt=0\n",
    "t_trivial = np.zeros(2)\n",
    "print(\"trivial solutions \", t_trivial)\n",
    "U, S, VT = np.linalg.svd(P)\n",
    "t_nontrivial = VT[-1]         \n",
    "t1 = t_nontrivial / t_nontrivial[-1]  \n",
    "t2 = -t1 \n",
    "print(\"Non trivial solutions \", t1,t2)"
   ]
  },
  {
   "cell_type": "code",
   "execution_count": null,
   "id": "e6b484e5",
   "metadata": {},
   "outputs": [],
   "source": [
    "# 6. Mt=0\n",
    "t_trivial = np.zeros(2)\n",
    "print(\"trivial solutions \", t_trivial)\n",
    "# It only has one solution because |M|=14 (different to 0) thus, is invertible and the null space contains only the zero vector"
   ]
  }
 ],
 "metadata": {
  "kernelspec": {
   "display_name": "Python 3",
   "language": "python",
   "name": "python3"
  },
  "language_info": {
   "codemirror_mode": {
    "name": "ipython",
    "version": 3
   },
   "file_extension": ".py",
   "mimetype": "text/x-python",
   "name": "python",
   "nbconvert_exporter": "python",
   "pygments_lexer": "ipython3",
   "version": "3.10.18"
  }
 },
 "nbformat": 4,
 "nbformat_minor": 5
}
