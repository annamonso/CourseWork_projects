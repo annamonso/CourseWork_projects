{
 "cells": [
  {
   "cell_type": "code",
   "execution_count": null,
   "metadata": {
    "executionInfo": {
     "elapsed": 125,
     "status": "ok",
     "timestamp": 1728449671727,
     "user": {
      "displayName": "Yutong Wang",
      "userId": "06618524469679280636"
     },
     "user_tz": 300
    },
    "id": "nsP6CD1CAK32"
   },
   "outputs": [],
   "source": [
    "import math\n",
    "class ag: # AutoGrad\n",
    "    def log(input):\n",
    "        output = ag.Scalar(math.log(input.value), inputs=[input], op=\"log\")\n",
    "\n",
    "        def _backward():\n",
    "            # YOUR CODE HERE\n",
    "            return None\n",
    "\n",
    "        output._backward = _backward\n",
    "        return output\n",
    "\n",
    "    def exp(input):\n",
    "\n",
    "        output = ag.Scalar(math.exp(input.value), inputs=[input], op=\"exp\")\n",
    "\n",
    "        def _backward():\n",
    "            input.grad += output.grad * output.value\n",
    "            return None\n",
    "\n",
    "        output._backward = _backward\n",
    "        return output\n",
    "\n",
    "    def relu(input):\n",
    "        output = ag.Scalar(max(0, input.value), inputs=[input], op=\"relu\")\n",
    "\n",
    "        def _backward():\n",
    "            if input.value > 0:\n",
    "                input.grad += output.grad\n",
    "\n",
    "        output._backward = _backward\n",
    "        return output\n",
    "\n",
    "\n",
    "    class Scalar: # Scalars with grads\n",
    "        def __init__(self,  value, op=\"\", _backward= lambda : None, inputs=[], label=\"\"):\n",
    "\n",
    "            self.value = float(value)\n",
    "            self.grad = 0.0\n",
    "\n",
    "            self._backward = _backward\n",
    "            self.inputs = inputs\n",
    "\n",
    "            self.op = op\n",
    "            self.label = label\n",
    "\n",
    "\n",
    "        def topological_sort(self):\n",
    "            topo_order = []\n",
    "            visited = set()\n",
    "\n",
    "            def dfs(node):\n",
    "                if node not in visited:\n",
    "                    visited.add(node)\n",
    "                    for input in node.inputs:\n",
    "                        dfs(input)\n",
    "                    topo_order.append(node)\n",
    "\n",
    "            dfs(self)\n",
    "            return topo_order\n",
    "\n",
    "        def backward(self):\n",
    "            self.grad = 1.0\n",
    "\n",
    "            topo_order = self.topological_sort()\n",
    "\n",
    "            for node in reversed(topo_order):\n",
    "                node._backward()\n",
    "\n",
    "\n",
    "        def __add__(self, other):\n",
    "            if not isinstance(other, ag.Scalar):\n",
    "                other = ag.Scalar(other, label=f\"{other}\\nconst\")\n",
    "\n",
    "            output = ag.Scalar(self.value + other.value,\n",
    "                               inputs=[self, other], op=\"add\")\n",
    "\n",
    "            def _backward():\n",
    "                # pass\n",
    "                self.grad += output.grad\n",
    "                other.grad += output.grad\n",
    "\n",
    "            output._backward = _backward\n",
    "            return output\n",
    "\n",
    "\n",
    "        def __mul__(self, other):\n",
    "            assert isinstance(other, ag.Scalar)\n",
    "            output = ag.Scalar(self.value * other.value, inputs=[self, other], op=\"mul\")\n",
    "\n",
    "            def _backward():\n",
    "                self.grad += other.value * output.grad\n",
    "                other.grad += self.value * output.grad\n",
    "\n",
    "                return None\n",
    "\n",
    "            output._backward = _backward\n",
    "\n",
    "            return output\n",
    "\n",
    "        def __pow__(self, exponent): # exponent is just a python float\n",
    "            output = ag.Scalar(self.value ** exponent, inputs=[self], op=f\"pow({exponent})\")\n",
    "\n",
    "            def _backward():\n",
    "                self.grad += (exponent * self.value**(exponent-1)) * output.grad\n",
    "                return None\n",
    "\n",
    "            output._backward = _backward\n",
    "            return output\n",
    "\n",
    "        def __neg__(self): # exponent is just a python float\n",
    "            output = ag.Scalar(-self.value, inputs=[self], op=f\"neg\")\n",
    "\n",
    "            def _backward():\n",
    "                self.grad += (-1) * output.grad\n",
    "                return None\n",
    "\n",
    "            output._backward = _backward\n",
    "            return output\n",
    "        \n",
    "        def __repr__(self) -> str:\n",
    "            return str(\"val:\" + str(self.value) + \", grad:\" + str(self.grad))\n",
    "\n"
   ]
  },
  {
   "cell_type": "markdown",
   "metadata": {},
   "source": [
    "# Exercise : Calculate the cross entropy using agScalar"
   ]
  },
  {
   "cell_type": "code",
   "execution_count": null,
   "metadata": {},
   "outputs": [],
   "source": [
    "# note 1: you need to modify \n",
    "# class ag: # AutoGrad\n",
    "#    def log(input):\n",
    "# note 2: we currently don't have division support. Unless...\n",
    "\n",
    "z1 = ag.Scalar(1, 'z1')\n",
    "z2 = ag.Scalar(2, 'z2')\n",
    "z3 = ag.Scalar(3, 'z3')\n",
    "# your code here\n",
    "\n",
    "(z1.grad, z2.grad, z3.grad)"
   ]
  },
  {
   "cell_type": "markdown",
   "metadata": {},
   "source": [
    "## Check the above against the analytic formula"
   ]
  },
  {
   "cell_type": "code",
   "execution_count": null,
   "metadata": {},
   "outputs": [],
   "source": [
    "import numpy as np\n",
    "z = np.array([1,2,3])\n",
    "\n",
    "ce_der = np.exp(z)/ np.sum(np.exp(z)) - np.array([0,1,0])\n",
    "ce_der"
   ]
  },
  {
   "cell_type": "markdown",
   "metadata": {},
   "source": [
    "# Exercise : a relu network"
   ]
  },
  {
   "cell_type": "code",
   "execution_count": null,
   "metadata": {
    "executionInfo": {
     "elapsed": 2,
     "status": "ok",
     "timestamp": 1728449672172,
     "user": {
      "displayName": "Yutong Wang",
      "userId": "06618524469679280636"
     },
     "user_tz": 300
    },
    "id": "zgqUCCz7s4BS"
   },
   "outputs": [],
   "source": [
    "import numpy as np\n",
    "\n",
    "class Model:\n",
    "    def __init__(self, n_hidden,rng_seed = 42):\n",
    "        np.random.seed(rng_seed)\n",
    "\n",
    "        w1np = np.random.randn(n_hidden)\n",
    "        b1np = np.random.randn(n_hidden)\n",
    "        w2np = np.random.randn(n_hidden)\n",
    "        b2np = np.random.randn(1)\n",
    "\n",
    "        self.w1 = [ag.Scalar(val) for val in w1np]\n",
    "        self.b1 = [ag.Scalar(val) for val in b1np]\n",
    "        self.w2 = [ag.Scalar(val) for val in w2np]\n",
    "        self.b2 = [ag.Scalar(val) for val in b2np]\n",
    "\n",
    "        self.n_hidden = n_hidden\n",
    "\n",
    "        self.parameters = self.w1 + self.b1 + self.w2 + self.b2\n",
    "\n",
    "    def forward(self, x):\n",
    "        # x is a 1-dimensional numpy array\n",
    "        # \"upgrade\" x into ag.Scalars\n",
    "        x_scalar = [ag.Scalar(val) for val in x]\n",
    "        n_samples = len(x_scalar)\n",
    "\n",
    "        # calculate the forward\n",
    "\n",
    "        ## YOUR CODE HERE\n",
    "        return [ag.Scalar(0.0) for i in range(n_samples)] # DELETE THIS LINE\n",
    "\n",
    "\n",
    "\n",
    "class Loss:\n",
    "    def mse(self, predictions, targets):\n",
    "        # mean squared error\n",
    "        assert len(predictions) == len(targets)\n",
    "        n_samples = len(predictions)\n",
    "        loss = ag.Scalar(0.0)\n",
    "\n",
    "        ## YOUR CODE HERE\n",
    "        return loss\n",
    "\n",
    "\n",
    "class Optimizer:\n",
    "    def __init__(self, parameters, lr=0.01):\n",
    "        self.parameters = parameters\n",
    "        self.lr = lr\n",
    "\n",
    "    def zero_grad(self):\n",
    "        # YOUR CODE HERE\n",
    "        # then delete \"pass\"\n",
    "        pass\n",
    "\n",
    "    def step(self):\n",
    "        # YOUR CODE HERE\n",
    "        # thene delete \"pass\"\n",
    "        pass\n",
    "\n",
    "\n"
   ]
  },
  {
   "cell_type": "code",
   "execution_count": null,
   "metadata": {
    "executionInfo": {
     "elapsed": 137,
     "status": "ok",
     "timestamp": 1728449672459,
     "user": {
      "displayName": "Yutong Wang",
      "userId": "06618524469679280636"
     },
     "user_tz": 300
    },
    "id": "Zlvmvho5y1HY"
   },
   "outputs": [],
   "source": [
    "def to_numpy(ag_Scalar_list):\n",
    "    return np.array([scalar.value for scalar in ag_Scalar_list])\n"
   ]
  },
  {
   "cell_type": "markdown",
   "metadata": {
    "id": "xPyH179h6sBq"
   },
   "source": [
    "# Generate some synthetic data"
   ]
  },
  {
   "cell_type": "code",
   "execution_count": null,
   "metadata": {
    "colab": {
     "base_uri": "https://localhost:8080/",
     "height": 447
    },
    "executionInfo": {
     "elapsed": 547,
     "status": "ok",
     "timestamp": 1728449673333,
     "user": {
      "displayName": "Yutong Wang",
      "userId": "06618524469679280636"
     },
     "user_tz": 300
    },
    "id": "ZNYB6ECqs11w",
    "outputId": "caba04bc-9b61-4fe9-829d-223df3153e5b"
   },
   "outputs": [],
   "source": [
    "import numpy as np\n",
    "import matplotlib.pyplot as plt\n",
    "\n",
    "N = 50\n",
    "\n",
    "np.random.seed(42)\n",
    "xnp = 2.0*(np.random.rand(N)-0.5) # note that i'm using rand instead of randn\n",
    "\n",
    "eps = (1/5)*np.random.randn(N)\n",
    "ynp = np.cos((3/2)*np.pi*xnp) + eps\n",
    "\n",
    "plt.scatter(xnp, ynp)"
   ]
  },
  {
   "cell_type": "markdown",
   "metadata": {
    "id": "buuI26RA6t-D"
   },
   "source": [
    "# Visualize the model at the beginning"
   ]
  },
  {
   "cell_type": "code",
   "execution_count": null,
   "metadata": {
    "colab": {
     "base_uri": "https://localhost:8080/",
     "height": 452
    },
    "executionInfo": {
     "elapsed": 1481,
     "status": "ok",
     "timestamp": 1728449675299,
     "user": {
      "displayName": "Yutong Wang",
      "userId": "06618524469679280636"
     },
     "user_tz": 300
    },
    "id": "oPaxmqEm6MFv",
    "outputId": "1ec56166-cd77-45d6-e666-4ccbc669793a"
   },
   "outputs": [],
   "source": [
    "n_hidden = 20\n",
    "loss_fn = Loss()\n",
    "model = Model(n_hidden=n_hidden)\n",
    "output = model.forward(xnp)\n",
    "loss = loss_fn.mse(output, ynp)\n",
    "loss.backward()\n",
    "\n",
    "plt.scatter(xnp,ynp, label='train')\n",
    "plt.ylim([-1.5,2.0])\n",
    "\n",
    "x_grid = np.linspace(-1,1,100)\n",
    "\n",
    "y_grid = model.forward(x_grid)\n",
    "\n",
    "plt.plot(x_grid,to_numpy(y_grid))\n",
    "plt.legend()"
   ]
  },
  {
   "cell_type": "markdown",
   "metadata": {
    "id": "OzsQGEas6wIK"
   },
   "source": [
    "# Train!"
   ]
  },
  {
   "cell_type": "code",
   "execution_count": null,
   "metadata": {
    "colab": {
     "base_uri": "https://localhost:8080/"
    },
    "executionInfo": {
     "elapsed": 15447,
     "status": "ok",
     "timestamp": 1727296919726,
     "user": {
      "displayName": "Yutong Wang",
      "userId": "06618524469679280636"
     },
     "user_tz": 300
    },
    "id": "SauzfT3H6oxa",
    "outputId": "7e3958ef-f4a7-4d94-a519-bbb8a98a9af0"
   },
   "outputs": [],
   "source": [
    "\n",
    "n_hidden = 20\n",
    "model = Model(n_hidden=n_hidden)\n",
    "optimizer = Optimizer(model.parameters, lr=0.1)\n",
    "\n",
    "\n",
    "for epoch in range(100):\n",
    "    optimizer.zero_grad()\n",
    "    output = model.forward(xnp)\n",
    "    loss = loss_fn.mse(output, ynp)\n",
    "    loss.backward()\n",
    "    optimizer.step()\n",
    "    if epoch % 10 == 0:\n",
    "        print(f\"Iteration {epoch}, Loss: {loss.value}\")"
   ]
  },
  {
   "cell_type": "markdown",
   "metadata": {
    "id": "CVRwpnxo64SS"
   },
   "source": [
    "# Visualize the model at the end of the training"
   ]
  },
  {
   "cell_type": "code",
   "execution_count": null,
   "metadata": {
    "colab": {
     "base_uri": "https://localhost:8080/",
     "height": 452
    },
    "executionInfo": {
     "elapsed": 1438,
     "status": "ok",
     "timestamp": 1727296939113,
     "user": {
      "displayName": "Yutong Wang",
      "userId": "06618524469679280636"
     },
     "user_tz": 300
    },
    "id": "ivXWaGF021e6",
    "outputId": "d4a2ff3d-4b25-48b6-abd4-dcda0226494a"
   },
   "outputs": [],
   "source": [
    "plt.scatter(xnp,ynp, label='train')\n",
    "plt.ylim([-1.5,2.0])\n",
    "\n",
    "x_grid = np.linspace(-1,1,100)\n",
    "\n",
    "y_grid = model.forward(x_grid)\n",
    "\n",
    "plt.plot(x_grid,to_numpy(y_grid))\n",
    "plt.legend()"
   ]
  }
 ],
 "metadata": {
  "colab": {
   "authorship_tag": "ABX9TyM1qHBRHmBvvjeyYdEGH/zd",
   "provenance": [
    {
     "file_id": "1scZ8K_P-GWM1VezSIOx3qY9tsYG1mUuI",
     "timestamp": 1727293068309
    }
   ]
  },
  "kernelspec": {
   "display_name": "Python 3 (ipykernel)",
   "language": "python",
   "name": "python3"
  },
  "language_info": {
   "codemirror_mode": {
    "name": "ipython",
    "version": 3
   },
   "file_extension": ".py",
   "mimetype": "text/x-python",
   "name": "python",
   "nbconvert_exporter": "python",
   "pygments_lexer": "ipython3",
   "version": "3.12.5"
  }
 },
 "nbformat": 4,
 "nbformat_minor": 4
}
