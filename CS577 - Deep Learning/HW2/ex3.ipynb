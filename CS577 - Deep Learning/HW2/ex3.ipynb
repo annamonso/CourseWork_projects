{
 "cells": [
  {
   "cell_type": "markdown",
   "id": "f88e22f3-0c3f-4db1-bd79-fffea0860585",
   "metadata": {},
   "source": [
    "Complete this exercise by filling out the block below `Vectorize the above`.\n",
    "`np.allclose(yhat_vec, np.array(yhat))` should return `True`."
   ]
  },
  {
   "cell_type": "code",
   "execution_count": null,
   "id": "6342f371-7114-41ba-92f6-999d701018f5",
   "metadata": {},
   "outputs": [],
   "source": [
    "import numpy as np\n",
    "n_context = 4\n",
    "n_features = 3\n",
    "n_samples = 5\n",
    "\n",
    "X_raw = [[[-0.707, -0.707, 1.0],\n",
    "          [0.963, -0.268, 1.0],\n",
    "          [0.391, 0.92, -1.0],\n",
    "          [0.899, 0.437, -1.0]],\n",
    "         [[0.327, -0.945, 1.0],\n",
    "          [0.3, -0.954, -1.0],\n",
    "          [-0.485, -0.874, -1.0],\n",
    "          [-0.694, 0.72, 1.0]],\n",
    "         [[-0.309, 0.951, -1.0],\n",
    "          [-0.951, 0.31, 1.0],\n",
    "          [-0.9, -0.437, 1.0],\n",
    "          [-0.013, -1.0, -1.0]],\n",
    "         [[0.829, -0.559, -1.0],\n",
    "          [-0.856, 0.518, 1.0],\n",
    "          [-0.2, -0.98, -1.0],\n",
    "          [-0.842, -0.539, 1.0]],\n",
    "         [[-0.938, -0.346, 1.0],\n",
    "          [-0.742, 0.67, -1.0],\n",
    "          [0.742, 0.67, -1.0],\n",
    "          [0.322, 0.947, -1.0]]]\n",
    "y_raw = [-1.0, -1.0, 1.0, 1.0, -1.0]\n",
    "\n",
    "n_reduced = 2\n",
    "W1_raw = [[0.74, 0.529], [-0.589, 0.189], [-0.759, -0.933]] # n_features by n_reduced\n",
    "W2_raw = [[0.504, 0.651], [-0.319, -0.848], [0.606, -2.018]] # n_features by n_reduced\n",
    "w3_raw = [2.707, 0.628, 0.908] # n_features"
   ]
  },
  {
   "cell_type": "code",
   "execution_count": null,
   "id": "873bc520-f2a6-4c2f-a9c2-52734e6fd3c0",
   "metadata": {},
   "outputs": [],
   "source": [
    "X = np.array(X_raw) # shape = (5,4,3)\n",
    "\n",
    "W1 = np.array(W1_raw) # shape = (3,2)\n",
    "W2 = np.array(W2_raw) # shape = (3,2)\n",
    "w3 = np.array(w3_raw) # shape = (3,)"
   ]
  },
  {
   "cell_type": "code",
   "execution_count": null,
   "id": "635ae2ae-ee83-4042-a3da-13737fdb00fd",
   "metadata": {},
   "outputs": [],
   "source": [
    "yhat = []\n",
    "for i in range(len(X)):\n",
    "    z = X[i, -1, :] @ W1 @ W2.T @ X[i,:,:].T\n",
    "    yhat.append(np.dot(np.exp(z)/ np.sum(np.exp(z)) @ X[i,:,:], w3))\n",
    "np.array(yhat)"
   ]
  },
  {
   "cell_type": "markdown",
   "id": "768254cc-1ffe-48fd-9bdd-5650ce7def07",
   "metadata": {},
   "source": [
    "# Vectorize the above"
   ]
  },
  {
   "cell_type": "code",
   "execution_count": null,
   "id": "34c8984b-76e1-4ebc-a195-ee02a152abc9",
   "metadata": {},
   "outputs": [],
   "source": [
    "# YOUR ANSWER HERE\n",
    "yhat_vec = None"
   ]
  },
  {
   "cell_type": "code",
   "execution_count": null,
   "id": "97546200-0235-4cce-9f39-b2582e59b11f",
   "metadata": {},
   "outputs": [],
   "source": [
    "np.allclose(yhat_vec, np.array(yhat))"
   ]
  }
 ],
 "metadata": {
  "kernelspec": {
   "display_name": "Python 3 (ipykernel)",
   "language": "python",
   "name": "python3"
  },
  "language_info": {
   "codemirror_mode": {
    "name": "ipython",
    "version": 3
   },
   "file_extension": ".py",
   "mimetype": "text/x-python",
   "name": "python",
   "nbconvert_exporter": "python",
   "pygments_lexer": "ipython3",
   "version": "3.12.5"
  }
 },
 "nbformat": 4,
 "nbformat_minor": 5
}
