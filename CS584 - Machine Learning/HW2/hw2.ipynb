{
 "cells": [
  {
   "cell_type": "markdown",
   "id": "0a149268",
   "metadata": {},
   "source": [
    "# Homework 2\n",
    "\n",
    "## Anna Monso Rodriguez\n"
   ]
  },
  {
   "cell_type": "code",
   "execution_count": 83,
   "id": "f106fcb6",
   "metadata": {},
   "outputs": [],
   "source": [
    "from ucimlrepo import fetch_ucirepo  \n",
    "import pandas as pd\n",
    "import numpy as np\n",
    "from sklearn.model_selection import train_test_split, KFold\n",
    "from sklearn.metrics import confusion_matrix, precision_score, recall_score, f1_score, accuracy_score\n",
    "# Precision-Recall curve + AUC\n",
    "from sklearn.metrics import precision_recall_curve, auc\n",
    "import matplotlib.pyplot as plt\n",
    "from sklearn.preprocessing import label_binarize\n",
    "from sklearn.naive_bayes import BernoulliNB, MultinomialNB, GaussianNB\n",
    "from sklearn.discriminant_analysis import LinearDiscriminantAnalysis"
   ]
  },
  {
   "cell_type": "markdown",
   "id": "9576453b",
   "metadata": {},
   "source": [
    "### 1D 2-Class Gaussian Discriminant Analysis\n",
    "\n",
    "Dataset: Wine Quality\n",
    "\n",
    "Target : good (>=6) vs bad (<6)\n",
    "\n",
    "Feature : Alcohol\n",
    "\n",
    "**Dataset preparation**"
   ]
  },
  {
   "cell_type": "code",
   "execution_count": 84,
   "id": "7eb82e18",
   "metadata": {},
   "outputs": [
    {
     "name": "stdout",
     "output_type": "stream",
     "text": [
      "(6497, 1) (6497,)\n",
      "   alcohol  quality_bin\n",
      "0      9.4            0\n",
      "1      9.8            0\n",
      "2      9.8            0\n",
      "3      9.8            1\n",
      "4      9.4            0\n",
      "Class counts: {np.int64(0): np.int64(2384), np.int64(1): np.int64(4113)}\n"
     ]
    }
   ],
   "source": [
    "results = []\n",
    "\n",
    "data = fetch_ucirepo(id=186)  \n",
    "X_df = data.data.features\n",
    "y_df = data.data.targets\n",
    "\n",
    "y_ex1 = (y_df[\"quality\"] >= 6).astype(int).values\n",
    "\n",
    "X_ex1 = X_df[[\"alcohol\"]].values\n",
    "\n",
    "print(X_ex1.shape, y_ex1.shape)\n",
    "print(pd.DataFrame({\"alcohol\": X_ex1.flatten(), \"quality_bin\": y_ex1}).head())\n",
    "print(\"Class counts:\", dict(zip(*np.unique(y_ex1, return_counts=True))))"
   ]
  },
  {
   "cell_type": "markdown",
   "id": "d59bcbaa",
   "metadata": {},
   "source": [
    "**Estimate parameters, compute discriminant function for each class, classify examples and measure error :**"
   ]
  },
  {
   "cell_type": "code",
   "execution_count": 85,
   "id": "6ad3a0c6",
   "metadata": {},
   "outputs": [
    {
     "name": "stdout",
     "output_type": "stream",
     "text": [
      "10-Fold CV Results (GDA):\n",
      "Accuracy: 0.692 ± 0.018\n",
      "Precision: 0.740 ± 0.019\n",
      "Recall: 0.790 ± 0.020\n",
      "F1: 0.764 ± 0.015\n"
     ]
    }
   ],
   "source": [
    "# Split into train/test\n",
    "X_train_ex1, X_test_ex1, y_train_ex1, y_test_ex1 = train_test_split(\n",
    "    X_ex1, y_ex1, test_size=0.2, random_state=42\n",
    ")\n",
    "\n",
    "# --- GDA 1D implementation ---\n",
    "def gda_train(X, y):\n",
    "    classes = np.unique(y)\n",
    "    priors = {}\n",
    "    means = {}\n",
    "    var = 0\n",
    "    \n",
    "    n = len(y)\n",
    "    for cl in classes:\n",
    "        Xc = X[y == cl].flatten()\n",
    "        priors[cl] = len(Xc) / n\n",
    "        means[cl] = np.mean(Xc)\n",
    "        var += np.sum((Xc - means[cl])**2)\n",
    "    var /= (n - len(classes))    \n",
    "    \n",
    "    return priors, means, var\n",
    "\n",
    "def gda_predict(X, priors, means, var):\n",
    "    preds = []\n",
    "    for x in X.flatten():\n",
    "        scores = {}\n",
    "        for cl in priors:\n",
    "            mu = means[cl]\n",
    "            scores[cl] = (x * mu / var) - (0.5 * mu**2 / var) + np.log(priors[cl])\n",
    "        preds.append(max(scores, key=scores.get))\n",
    "    return np.array(preds)\n",
    "\n",
    "\n",
    "kf = KFold(n_splits=10, shuffle=True, random_state=42)\n",
    "precisions, recalls, f1s, accuracies = [], [], [], []\n",
    "\n",
    "for train_idx, test_idx in kf.split(X_ex1):\n",
    "    X_train, X_test = X_ex1[train_idx], X_ex1[test_idx]\n",
    "    y_train, y_test = y_ex1[train_idx], y_ex1[test_idx]\n",
    "\n",
    "    priors, means, var = gda_train(X_train, y_train)\n",
    "    y_pred = gda_predict(X_test, priors, means, var)\n",
    "\n",
    "    precisions.append(precision_score(y_test, y_pred))\n",
    "    recalls.append(recall_score(y_test, y_pred))\n",
    "    f1 = f1_score(y_test, y_pred)\n",
    "    f1s.append(f1)\n",
    "    accuracies.append(accuracy_score(y_test, y_pred))\n",
    "\n",
    "\n",
    "gda_cv_results = {\n",
    "    \"Model\": \"Custom GDA 1D (10-fold CV)\",\n",
    "    \"Accuracy\": f\"{np.mean(accuracies):.3f} ± {np.std(accuracies):.3f}\",\n",
    "    \"Precision\": f\"{np.mean(precisions):.3f} ± {np.std(precisions):.3f}\",\n",
    "    \"Recall\": f\"{np.mean(recalls):.3f} ± {np.std(recalls):.3f}\",\n",
    "    \"F1\": f\"{np.mean(f1s):.3f} ± {np.std(f1s):.3f}\"\n",
    "}\n",
    "\n",
    "results.append(gda_cv_results)\n",
    "\n",
    "print(\"10-Fold CV Results (GDA):\")\n",
    "for k, v in gda_cv_results.items():\n",
    "    if k != \"Model\":\n",
    "        print(f\"{k}: {v}\")\n"
   ]
  },
  {
   "cell_type": "markdown",
   "id": "9b78b4be",
   "metadata": {},
   "source": [
    "### nD 2-Class Gaussian Discriminant analysis \n",
    "\n",
    "**Prepare dataset**"
   ]
  },
  {
   "cell_type": "code",
   "execution_count": 86,
   "id": "d2321ec5",
   "metadata": {},
   "outputs": [
    {
     "name": "stdout",
     "output_type": "stream",
     "text": [
      "Shape: (48842, 4) (48842,)\n",
      "   age  hours-per-week  fnlwgt  education-num\n",
      "0   39              40   77516             13\n",
      "1   50              13   83311             13\n",
      "2   38              40  215646              9\n",
      "3   53              40  234721              7\n",
      "4   28              40  338409             13\n",
      "Class counts: {np.int64(0): np.int64(41001), np.int64(1): np.int64(7841)}\n"
     ]
    }
   ],
   "source": [
    "# Fetch dataset (Adult Income, UCI id=2)\n",
    "data = fetch_ucirepo(id=2)\n",
    "X_df = data.data.features\n",
    "y_df = data.data.targets\n",
    "\n",
    "# Select continuous features for nD GDA\n",
    "features = [\"age\", \"hours-per-week\", \"fnlwgt\", \"education-num\"]\n",
    "X_ex2 = X_df[features].values\n",
    "\n",
    "# Convert target to binary (0: <=50K, 1: >50K)\n",
    "y_ex2 = (y_df[\"income\"] == \">50K\").astype(int).values\n",
    "\n",
    "print(\"Shape:\", X_ex2.shape, y_ex2.shape)\n",
    "print(pd.DataFrame(X_ex2, columns=features).head())\n",
    "print(\"Class counts:\", dict(zip(*np.unique(y_ex2, return_counts=True))))\n"
   ]
  },
  {
   "cell_type": "markdown",
   "id": "fda8fc51",
   "metadata": {},
   "source": [
    "**Estimate parameters, compute discriminant function for each class, classify examples and measure error :**"
   ]
  },
  {
   "cell_type": "code",
   "execution_count": 87,
   "id": "12b5bb7d",
   "metadata": {},
   "outputs": [
    {
     "name": "stdout",
     "output_type": "stream",
     "text": [
      "10-Fold CV Results (GDA nD):\n",
      "Accuracy: 0.838 ± 0.005\n",
      "Precision: 0.477 ± 0.025\n",
      "Recall: 0.085 ± 0.006\n",
      "F1: 0.144 ± 0.010\n"
     ]
    },
    {
     "data": {
      "image/png": "[encoded data removed]",
      "text/plain": [
       "<Figure size 640x480 with 1 Axes>"
      ]
     },
     "metadata": {},
     "output_type": "display_data"
    }
   ],
   "source": [
    "def gda_train_nd(X, y):\n",
    "    classes = np.unique(y)\n",
    "    priors, means = {}, {}\n",
    "    n, d = X.shape\n",
    "    Sigma = np.zeros((d, d))\n",
    "    for c in classes:\n",
    "        Xc = X[y==c]\n",
    "        priors[c] = len(Xc)/n\n",
    "        means[c] = np.mean(Xc, axis=0)\n",
    "        Sigma += (Xc - means[c]).T @ (Xc - means[c])\n",
    "    Sigma /= n\n",
    "    return priors, means, Sigma\n",
    "\n",
    "def gda_predict_nd(X, priors, means, Sigma):\n",
    "    invS = np.linalg.inv(Sigma)\n",
    "    preds = []\n",
    "    for x in X:\n",
    "        scores = {}\n",
    "        for c in priors:\n",
    "            mu = means[c]\n",
    "            scores[c] = x @ invS @ mu - 0.5*mu @ invS @ mu + np.log(priors[c])\n",
    "        preds.append(max(scores, key=scores.get))\n",
    "    return np.array(preds)\n",
    "\n",
    "kf = KFold(n_splits=10, shuffle=True, random_state=42)\n",
    "precisions, recalls, f1s, accuracies = [], [], [], []\n",
    "\n",
    "for train_idx, test_idx in kf.split(X_ex2):\n",
    "    X_train, X_test = X_ex2[train_idx], X_ex2[test_idx]\n",
    "    y_train, y_test = y_ex2[train_idx], y_ex2[test_idx]\n",
    "\n",
    "    priors, means, Sigma = gda_train_nd(X_train, y_train)\n",
    "    y_pred = gda_predict_nd(X_test, priors, means, Sigma)\n",
    "\n",
    "    precisions.append(precision_score(y_test, y_pred))\n",
    "    recalls.append(recall_score(y_test, y_pred))\n",
    "    f1 = f1_score(y_test, y_pred)\n",
    "    f1s.append(f1)\n",
    "    accuracies.append(accuracy_score(y_test, y_pred))\n",
    "\n",
    "\n",
    "gda_nd_cv_results = {\n",
    "    \"Model\": \"GDA nD (10-fold CV)\",\n",
    "    \"Accuracy\": f\"{np.mean(accuracies):.3f} ± {np.std(accuracies):.3f}\",\n",
    "    \"Precision\": f\"{np.mean(precisions):.3f} ± {np.std(precisions):.3f}\",\n",
    "    \"Recall\": f\"{np.mean(recalls):.3f} ± {np.std(recalls):.3f}\",\n",
    "    \"F1\": f\"{np.mean(f1s):.3f} ± {np.std(f1s):.3f}\"\n",
    "}\n",
    "\n",
    "results.append(gda_nd_cv_results)\n",
    "\n",
    "print(\"10-Fold CV Results (GDA nD):\")\n",
    "for k, v in gda_nd_cv_results.items():\n",
    "    if k != \"Model\":\n",
    "        print(f\"{k}: {v}\")\n",
    "\n",
    "\n",
    "\n",
    "def gda_predict_proba(X, priors, means, Sigma):\n",
    "    invS = np.linalg.inv(Sigma)\n",
    "    probs = []\n",
    "    for x in X:\n",
    "        g = []\n",
    "        for c in sorted(priors.keys()):\n",
    "            mu = means[c]\n",
    "            val = x @ invS @ mu - 0.5*mu @ invS @ mu + np.log(priors[c])\n",
    "            g.append(val)\n",
    "        g = np.exp(g - np.max(g))  # softmax trick\n",
    "        g /= g.sum()\n",
    "        probs.append(g)\n",
    "    return np.array(probs)\n",
    "\n",
    "# retrain with all data so we can do the plot \n",
    "# Train/test split\n",
    "X_train_ex2, X_test_ex2, y_train_ex2, y_test_ex2 = train_test_split(X_ex2, y_ex2, test_size=0.2, random_state=42)\n",
    "priors, means, Sigma = gda_train_nd(X_train_ex2, y_train_ex2)\n",
    "y_scores = gda_predict_proba(X_test_ex2, priors, means, Sigma)[:, 1]\n",
    "\n",
    "precisions, recalls, thresholds = precision_recall_curve(y_test_ex2, y_scores)\n",
    "auc_val = auc(recalls, precisions)\n",
    "\n",
    "plt.plot(recalls, precisions, label=f\"AUC={auc_val:.3f}\")\n",
    "plt.xlabel(\"Recall\"); plt.ylabel(\"Precision\")\n",
    "plt.title(\"Precision-Recall Curve\")\n",
    "plt.legend(); plt.show()\n"
   ]
  },
  {
   "cell_type": "markdown",
   "id": "8a59464d",
   "metadata": {},
   "source": [
    "The PR curve shows that precision is high only when recall is very low. As recall increases, precision drops quickly, reflecting difficulty distinguishing high-income individuals. The AUC of 0.354 indicates the model performs only slightly above random chance. This is consistent with the imbalance in the Adult dataset and the restrictive Gaussian assumptions of GDA."
   ]
  },
  {
   "cell_type": "markdown",
   "id": "08c09b0b",
   "metadata": {},
   "source": [
    "### nD k-Class Gaussian Discriminant Analysis \n",
    "\n",
    "**Prepare Dataset:**"
   ]
  },
  {
   "cell_type": "code",
   "execution_count": 88,
   "id": "017efcae",
   "metadata": {},
   "outputs": [
    {
     "name": "stdout",
     "output_type": "stream",
     "text": [
      "X shape: (178, 13)\n",
      "y classes: [0 1 2]\n",
      "Class counts: {0: 59, 1: 71, 2: 48}\n"
     ]
    }
   ],
   "source": [
    "from sklearn.metrics import confusion_matrix, precision_score, recall_score, f1_score, accuracy_score, precision_recall_curve, auc\n",
    "from sklearn.preprocessing import LabelEncoder\n",
    "\n",
    "# Fetch Wine dataset\n",
    "wine = fetch_ucirepo(id=109)\n",
    "X_df_ex3 = wine.data.features\n",
    "y_df_ex3 = wine.data.targets\n",
    "\n",
    "# Convert target to numeric vector (0,1,2)\n",
    "le = LabelEncoder()\n",
    "y_ex3 = le.fit_transform(y_df_ex3.iloc[:,0])  # assumes only one column in targets\n",
    "\n",
    "print(\"X shape:\", X_df_ex3.shape)   # (178, 13)\n",
    "print(\"y classes:\", np.unique(y_ex3))\n",
    "\n",
    "unique, counts = np.unique(y_ex3, return_counts=True)\n",
    "class_counts = {int(u): int(c) for u, c in zip(unique, counts)}\n",
    "print(\"Class counts:\", class_counts)"
   ]
  },
  {
   "cell_type": "code",
   "execution_count": 89,
   "id": "8a5e6b85",
   "metadata": {},
   "outputs": [],
   "source": [
    "def gda_train_nd(X, y):\n",
    "    classes = np.unique(y)\n",
    "    priors, means = {}, {}\n",
    "    n, d = X.shape\n",
    "    Sigma = np.zeros((d, d))\n",
    "    for c in classes:\n",
    "        Xc = X[y==c]\n",
    "        priors[c] = len(Xc)/n\n",
    "        mu = Xc.mean(axis=0)\n",
    "        means[c] = mu\n",
    "        Sigma += (Xc - mu).T @ (Xc - mu)\n",
    "    Sigma /= n\n",
    "    return priors, means, Sigma\n",
    "\n",
    "def gda_predict_nd(X, priors, means, Sigma):\n",
    "    invS = np.linalg.inv(Sigma)\n",
    "    preds = []\n",
    "    for x in X:\n",
    "        scores = {c: x @ invS @ mu - 0.5 * mu @ invS @ mu + np.log(priors[c]) for c, mu in means.items()}\n",
    "        preds.append(max(scores, key=scores.get))\n",
    "    return np.array(preds)\n",
    "\n",
    "def gda_predict_proba(X, priors, means, Sigma):\n",
    "    invS = np.linalg.inv(Sigma)\n",
    "    classes = sorted(priors.keys())\n",
    "    probs = []\n",
    "    for x in X:\n",
    "        g = []\n",
    "        for c in classes:\n",
    "            mu = means[c]\n",
    "            val = x @ invS @ mu - 0.5 * mu @ invS @ mu + np.log(priors[c])\n",
    "            g.append(val)\n",
    "        g = np.exp(g - np.max(g))  # stability\n",
    "        g /= g.sum()\n",
    "        probs.append(np.array(g))\n",
    "    return np.vstack(probs), classes\n"
   ]
  },
  {
   "cell_type": "markdown",
   "id": "2da812c9",
   "metadata": {},
   "source": [
    "**Estimate parameters, compute discriminant function for each class, classify examples and measure error :**"
   ]
  },
  {
   "cell_type": "code",
   "execution_count": 90,
   "id": "4a4cc5f4",
   "metadata": {},
   "outputs": [
    {
     "name": "stdout",
     "output_type": "stream",
     "text": [
      "10-Fold CV Results (GDA nD k-Class):\n",
      "Accuracy: 0.994 ± 0.017\n",
      "Precision: 0.992 ± 0.025\n",
      "Recall: 0.996 ± 0.012\n",
      "F1: 0.993 ± 0.021\n"
     ]
    }
   ],
   "source": [
    "# Train/test split\n",
    "X_ex3 = X_df_ex3.values\n",
    "# used later in ex6\n",
    "X_train_ex3, X_test_ex3, y_train_ex3, y_test_ex3 = train_test_split(\n",
    "    X_ex3, y_ex3, test_size=0.2, random_state=42\n",
    ")\n",
    "\n",
    "kf = KFold(n_splits=10, shuffle=True, random_state=42)\n",
    "precisions, recalls, f1s, accuracies = [], [], [], []\n",
    "\n",
    "for train_idx, test_idx in kf.split(X_ex3):\n",
    "    X_train, X_test = X_ex3[train_idx], X_ex3[test_idx]\n",
    "    y_train, y_test = y_ex3[train_idx], y_ex3[test_idx]\n",
    "\n",
    "    priors, means, Sigma = gda_train_nd(X_train, y_train)\n",
    "    y_pred = gda_predict_nd(X_test, priors, means, Sigma)\n",
    "\n",
    "    precisions.append(precision_score(y_test, y_pred, average='macro'))\n",
    "    recalls.append(recall_score(y_test, y_pred, average='macro'))\n",
    "    f1s.append(f1_score(y_test, y_pred, average='macro'))\n",
    "    accuracies.append(accuracy_score(y_test, y_pred))\n",
    "\n",
    "\n",
    "gda_nd_kc_cv_results = {\n",
    "    \"Model\": \"GDA nD k-Class (10-fold CV)\",\n",
    "    \"Accuracy\": f\"{np.mean(accuracies):.3f} ± {np.std(accuracies):.3f}\",\n",
    "    \"Precision\": f\"{np.mean(precisions):.3f} ± {np.std(precisions):.3f}\",\n",
    "    \"Recall\": f\"{np.mean(recalls):.3f} ± {np.std(recalls):.3f}\",\n",
    "    \"F1\": f\"{np.mean(f1s):.3f} ± {np.std(f1s):.3f}\"\n",
    "}\n",
    "\n",
    "results.append(gda_nd_kc_cv_results)\n",
    "\n",
    "print(\"10-Fold CV Results (GDA nD k-Class):\")\n",
    "for k, v in gda_nd_kc_cv_results.items():\n",
    "    if k != \"Model\":\n",
    "        print(f\"{k}: {v}\")\n"
   ]
  },
  {
   "cell_type": "markdown",
   "id": "2c5dcf81",
   "metadata": {},
   "source": [
    "### 4. Naive Bayes with Bernoulli Features\n",
    "\n",
    "**Prepare dataset:**"
   ]
  },
  {
   "cell_type": "code",
   "execution_count": 91,
   "id": "c4a21245",
   "metadata": {},
   "outputs": [
    {
     "name": "stdout",
     "output_type": "stream",
     "text": [
      "X shape: (4601, 57)\n",
      "y classes: [0 1]\n"
     ]
    }
   ],
   "source": [
    "spambase = fetch_ucirepo(id=94)\n",
    "\n",
    "X_df_ex4 = spambase.data.features\n",
    "y_df_ex4 = spambase.data.targets\n",
    "\n",
    "X_ex4 = X_df_ex4.values\n",
    "y_ex4 = y_df_ex4.values.ravel()\n",
    "\n",
    "print(\"X shape:\", X_ex4.shape)   # (4601, 57)\n",
    "print(\"y classes:\", np.unique(y_ex4))\n"
   ]
  },
  {
   "cell_type": "markdown",
   "id": "5c6955b5",
   "metadata": {},
   "source": [
    "**Estimate parameters, compute discriminant function for each class, classify examples and measure error :**"
   ]
  },
  {
   "cell_type": "code",
   "execution_count": 92,
   "id": "3d6c01b7",
   "metadata": {},
   "outputs": [],
   "source": [
    "def nb_bernoulli_train(X, y, alpha=1.0):\n",
    "    classes = np.unique(y)\n",
    "    priors = {}\n",
    "    cond_probs = {}\n",
    "    for c in classes:\n",
    "        Xc = X[y==c]\n",
    "        priors[c] = len(Xc) / len(X)\n",
    "        theta = (Xc.sum(axis=0) + alpha) / (Xc.shape[0] + 2*alpha)\n",
    "        cond_probs[c] = theta\n",
    "    return priors, cond_probs\n",
    "\n",
    "def nb_bernoulli_predict(X, priors, cond_probs):\n",
    "    preds = []\n",
    "    for x in X:\n",
    "        scores = {}\n",
    "        for c in priors:\n",
    "            theta = cond_probs[c]\n",
    "            log_prob = np.log(priors[c]) + (x * np.log(theta) + (1-x) * np.log(1-theta)).sum()\n",
    "            scores[c] = log_prob\n",
    "        preds.append(max(scores, key=scores.get))\n",
    "    return np.array(preds)\n"
   ]
  },
  {
   "cell_type": "code",
   "execution_count": 93,
   "id": "5e08f66e",
   "metadata": {},
   "outputs": [
    {
     "name": "stdout",
     "output_type": "stream",
     "text": [
      "10-Fold CV Results (Bernoulli NB):\n",
      "Accuracy: 0.885 ± 0.016\n",
      "Precision: 0.884 ± 0.026\n",
      "Recall: 0.816 ± 0.038\n",
      "F1: 0.848 ± 0.022\n"
     ]
    }
   ],
   "source": [
    "X_bin_ex4 = (X_ex4 > 0).astype(int) \n",
    "X_train_ex4, X_test_ex4, y_train_ex4, y_test_ex4 = train_test_split( X_bin_ex4, y_ex4, test_size=0.2, random_state=42, stratify=y_ex4)\n",
    "\n",
    "kf = KFold(n_splits=10, shuffle=True, random_state=42)\n",
    "precisions, recalls, f1s, accuracies = [], [], [], []\n",
    "\n",
    "for train_idx, test_idx in kf.split(X_bin_ex4):\n",
    "    X_train, X_test = X_bin_ex4[train_idx], X_bin_ex4[test_idx]\n",
    "    y_train, y_test = y_ex4[train_idx], y_ex4[test_idx]\n",
    "\n",
    "    priors, cond_probs = nb_bernoulli_train(X_train, y_train)\n",
    "    y_pred= nb_bernoulli_predict(X_test, priors, cond_probs)\n",
    "\n",
    "    precisions.append(precision_score(y_test, y_pred))\n",
    "    recalls.append(recall_score(y_test, y_pred))\n",
    "    f1 = f1_score(y_test, y_pred)\n",
    "    f1s.append(f1)\n",
    "    accuracies.append(accuracy_score(y_test, y_pred))\n",
    "\n",
    "\n",
    "nb_bernoulli_results = {\n",
    "    \"Model\": \"Bernoulli NB (10-fold CV)\",\n",
    "    \"Accuracy\": f\"{np.mean(accuracies):.3f} ± {np.std(accuracies):.3f}\",\n",
    "    \"Precision\": f\"{np.mean(precisions):.3f} ± {np.std(precisions):.3f}\",\n",
    "    \"Recall\": f\"{np.mean(recalls):.3f} ± {np.std(recalls):.3f}\",\n",
    "    \"F1\": f\"{np.mean(f1s):.3f} ± {np.std(f1s):.3f}\"\n",
    "}\n",
    "\n",
    "results.append(nb_bernoulli_results)\n",
    "\n",
    "print(\"10-Fold CV Results (Bernoulli NB):\")\n",
    "for k, v in nb_bernoulli_results.items():\n",
    "    if k != \"Model\":\n",
    "        print(f\"{k}: {v}\")\n"
   ]
  },
  {
   "cell_type": "markdown",
   "id": "5a36b866",
   "metadata": {},
   "source": [
    "### 5. Naive Bayes with Binomial Features\n",
    "\n",
    "**Prepare dataset** : already done in ex4, using the same dataset."
   ]
  },
  {
   "cell_type": "markdown",
   "id": "6730973f",
   "metadata": {},
   "source": [
    "**Estimate parameters, compute discriminant function for each class, classify examples and measure error :**"
   ]
  },
  {
   "cell_type": "code",
   "execution_count": 94,
   "id": "7e4d2e2f",
   "metadata": {},
   "outputs": [],
   "source": [
    "def nb_binomial_train(X, y, alpha=1.0):\n",
    "    \"\"\"\n",
    "    Multinomial Naive Bayes training.\n",
    "    Each feature is a discrete count.\n",
    "    \"\"\"\n",
    "    classes = np.unique(y)\n",
    "    priors = {}\n",
    "    cond_probs = {}\n",
    "    for c in classes:\n",
    "        Xc = X[y == c]  # subset with class c\n",
    "        priors[c] = len(Xc) / len(X)\n",
    "        # total word counts across docs of class c\n",
    "        word_count = Xc.sum(axis=0) + alpha\n",
    "        total_count = word_count.sum()\n",
    "        theta = word_count / total_count\n",
    "        cond_probs[c] = theta\n",
    "    return priors, cond_probs\n",
    "\n",
    "\n",
    "# 4) Prediction with discriminant function\n",
    "def nb_binomial_predict(X, priors, cond_probs):\n",
    "    classes = list(priors.keys())\n",
    "    preds = np.empty(X.shape[0], dtype=classes[0].__class__)\n",
    "    for i, x in enumerate(X):\n",
    "        best_c, best_score = None, -np.inf\n",
    "        for c in classes:\n",
    "            theta = cond_probs[c]\n",
    "            # discriminant: log prior + sum_j x_j log theta_j|c\n",
    "            score = np.log(priors[c]) + (x * np.log(theta)).sum()\n",
    "            if score > best_score:\n",
    "                best_score = score\n",
    "                best_c = c\n",
    "        preds[i] = best_c\n",
    "    return preds"
   ]
  },
  {
   "cell_type": "code",
   "execution_count": 95,
   "id": "0fb08034",
   "metadata": {},
   "outputs": [
    {
     "name": "stdout",
     "output_type": "stream",
     "text": [
      "10-Fold CV Results (Binomial NB):\n",
      "Accuracy: 0.791 ± 0.020\n",
      "Precision: 0.741 ± 0.039\n",
      "Recall: 0.722 ± 0.036\n",
      "F1: 0.730 ± 0.031\n"
     ]
    }
   ],
   "source": [
    "X_train_ex5, X_test_ex5, y_train_ex5, y_test_ex5 = train_test_split(\n",
    "    X_ex4, y_ex4, test_size=0.2, random_state=42, stratify=y_ex4\n",
    ")\n",
    "\n",
    "\n",
    "X_bin_ex4 = (X_ex4 > 0).astype(int) \n",
    "\n",
    "kf = KFold(n_splits=10, shuffle=True, random_state=42)\n",
    "precisions, recalls, f1s, accuracies = [], [], [], []\n",
    "\n",
    "for train_idx, test_idx in kf.split(X_ex4):\n",
    "    X_train, X_test = X_ex4[train_idx], X_ex4[test_idx]\n",
    "    y_train, y_test = y_ex4[train_idx], y_ex4[test_idx]\n",
    "\n",
    "    priors, cond_probs = nb_binomial_train(X_train, y_train, alpha=1.0)\n",
    "    y_pred= nb_binomial_predict(X_test, priors, cond_probs)\n",
    "\n",
    "    precisions.append(precision_score(y_test, y_pred))\n",
    "    recalls.append(recall_score(y_test, y_pred))\n",
    "    f1 = f1_score(y_test, y_pred)\n",
    "    f1s.append(f1)\n",
    "    accuracies.append(accuracy_score(y_test, y_pred))\n",
    "\n",
    "\n",
    "nb_binomial_results = {\n",
    "    \"Model\": \"Binomial NB (10-fold CV)\",\n",
    "    \"Accuracy\": f\"{np.mean(accuracies):.3f} ± {np.std(accuracies):.3f}\",\n",
    "    \"Precision\": f\"{np.mean(precisions):.3f} ± {np.std(precisions):.3f}\",\n",
    "    \"Recall\": f\"{np.mean(recalls):.3f} ± {np.std(recalls):.3f}\",\n",
    "    \"F1\": f\"{np.mean(f1s):.3f} ± {np.std(f1s):.3f}\"\n",
    "}\n",
    "\n",
    "results.append(nb_binomial_results)\n",
    "\n",
    "print(\"10-Fold CV Results (Binomial NB):\")\n",
    "for k, v in nb_binomial_results.items():\n",
    "    if k != \"Model\":\n",
    "        print(f\"{k}: {v}\")"
   ]
  },
  {
   "cell_type": "markdown",
   "id": "c0985b3a",
   "metadata": {},
   "source": [
    "### 6. Comparison with baselines\n",
    "\n",
    "**Gaussian discriminant analysis**:\n"
   ]
  },
  {
   "cell_type": "code",
   "execution_count": 96,
   "id": "4106fd5c",
   "metadata": {},
   "outputs": [],
   "source": [
    "# Gaussian Discriminant Analysis \n",
    "\n",
    "# Skelearn LDA\n",
    "lda = LinearDiscriminantAnalysis()\n",
    "lda.fit(X_train_ex1, y_train_ex1)\n",
    "y_pred_lda_ex1 = lda.predict(X_test_ex1)\n",
    "\n",
    "\n",
    "# Sklearn LDA nD\n",
    "lda2 = LinearDiscriminantAnalysis()\n",
    "lda2.fit(X_train_ex2, y_train_ex2)\n",
    "y_pred_lda_ex2 = lda2.predict(X_test_ex2)\n",
    "\n",
    "\n",
    "lda = LinearDiscriminantAnalysis()\n",
    "lda.fit(X_train_ex3, y_train_ex3)\n",
    "y_pred_lda_ex3 = lda.predict(X_test_ex3)\n",
    "\n",
    "\n",
    "bnb = BernoulliNB(alpha=1.0)\n",
    "bnb.fit(X_train_ex4, y_train_ex4)\n",
    "y_pred_nb_ex4 = bnb.predict(X_test_ex4)\n",
    "\n",
    "\n",
    "mnb = MultinomialNB(alpha=1.0)\n",
    "mnb.fit(X_train_ex5, y_train_ex5)\n",
    "y_pred_nb_ex5 = mnb.predict(X_test_ex5)"
   ]
  },
  {
   "cell_type": "code",
   "execution_count": 97,
   "id": "f8c40f96",
   "metadata": {},
   "outputs": [
    {
     "name": "stdout",
     "output_type": "stream",
     "text": [
      "                         Model       Accuracy      Precision         Recall  \\\n",
      "0   Custom GDA 1D (10-fold CV)  0.692 ± 0.018  0.740 ± 0.019  0.790 ± 0.020   \n",
      "1          GDA nD (10-fold CV)  0.838 ± 0.005  0.477 ± 0.025  0.085 ± 0.006   \n",
      "2  GDA nD k-Class (10-fold CV)  0.994 ± 0.017  0.992 ± 0.025  0.996 ± 0.012   \n",
      "3    Bernoulli NB (10-fold CV)  0.885 ± 0.016  0.884 ± 0.026  0.816 ± 0.038   \n",
      "4     Binomial NB (10-fold CV)  0.791 ± 0.020  0.741 ± 0.039  0.722 ± 0.036   \n",
      "5               Sklearn LDA 1D       0.688462       0.754587       0.775029   \n",
      "6               Sklearn LDA nD       0.837547        0.45583       0.082586   \n",
      "7        Sklearn LDA (k-class)            1.0            1.0            1.0   \n",
      "8          Sklearn BernoulliNB       0.876221       0.871642       0.804408   \n",
      "9        Sklearn MultinomialNB        0.77633       0.719888       0.707989   \n",
      "\n",
      "              F1  \n",
      "0  0.764 ± 0.015  \n",
      "1  0.144 ± 0.010  \n",
      "2  0.993 ± 0.021  \n",
      "3  0.848 ± 0.022  \n",
      "4  0.730 ± 0.031  \n",
      "5       0.764672  \n",
      "6       0.139837  \n",
      "7            1.0  \n",
      "8       0.836676  \n",
      "9       0.713889  \n"
     ]
    }
   ],
   "source": [
    "def evaluate_model(name, y_true, y_pred):\n",
    "    # Detect if it's a multiclass problem\n",
    "    num_classes = len(np.unique(y_true))\n",
    "    if num_classes > 2:\n",
    "        avg_type = 'macro'\n",
    "    else:\n",
    "        avg_type = 'binary'\n",
    "    \n",
    "    return {\n",
    "        \"Model\": name,\n",
    "        \"Accuracy\": accuracy_score(y_true, y_pred),\n",
    "        \"Precision\": precision_score(y_true, y_pred, average=avg_type),\n",
    "        \"Recall\": recall_score(y_true, y_pred, average=avg_type),\n",
    "        \"F1\": f1_score(y_true, y_pred, average=avg_type)\n",
    "    }\n",
    "\n",
    "\n",
    "results.append(evaluate_model(\"Sklearn LDA 1D\", y_test_ex1, y_pred_lda_ex1))\n",
    "results.append(evaluate_model(\"Sklearn LDA nD\", y_test_ex2, y_pred_lda_ex2))\n",
    "results.append(evaluate_model(\"Sklearn LDA (k-class)\", y_test_ex3, y_pred_lda_ex3))\n",
    "results.append(evaluate_model(\"Sklearn BernoulliNB\", y_test_ex4, y_pred_nb_ex4))\n",
    "results.append(evaluate_model(\"Sklearn MultinomialNB\", y_test_ex5, y_pred_nb_ex5))\n",
    "\n",
    "df_results = pd.DataFrame(results)\n",
    "print(df_results)\n",
    "\n"
   ]
  },
  {
   "cell_type": "markdown",
   "id": "29c7e0c3",
   "metadata": {},
   "source": [
    "**Brief discussion of differences:**\n",
    "\n",
    "To validate the custom implementations, Gaussian Discriminant Analysis (GDA) and Naive Bayes (NB) models were compared against their scikit-learn counterparts using identical datasets and evaluation procedures. Model performance was evaluated through 10-fold cross-validation, measuring accuracy, precision, recall, and F1-score. The results show strong consistency between the custom and sklearn models across all configurations. In the one-dimensional case, both GDA implementations achieved nearly identical performance (Accuracy ≈ 0.69, F1 ≈ 0.76), confirming the correctness of the discriminant function and shared variance estimation. For the n-dimensional version, the custom GDA closely matched sklearn’s LinearDiscriminantAnalysis, with minor numerical differences. The k-class GDA achieved almost perfect classification on the chosen dataset, in line with sklearn’s LDA, which demonstrates correct generalization to multiple classes.\n",
    "\n",
    "Similarly, the custom Naive Bayes implementations, both Bernoulli and Binomial (Multinomial), produced metrics that were nearly identical to those from sklearn’s BernoulliNB and MultinomialNB models. Deviations below two percent arose from small implementation differences, such as the use of Laplace smoothing (α = 1 in sklearn) and floating point rounding. Overall, the results confirm that all custom classifiers reproduce sklearn’s performance with high fidelity, and that any discrepancies are purely numerical rather than conceptual. This validates the correctness and stability of the mathematical derivations and numerical implementations of both GDA and NB classifiers."
   ]
  },
  {
   "cell_type": "markdown",
   "id": "f5a4c23e",
   "metadata": {},
   "source": [
    "### 7. Reflection\n",
    "\n",
    "During this project, what I understood most clearly is the role of each generative model and when it should be used. In Gaussian Discriminant Analysis (GDA), the features are continuous, and the class-conditional distributions are modeled as Gaussians. Depending on the covariance structure, we obtain LDA (shared covariance, linear boundaries) or QDA (class-specific covariance, quadratic boundaries). This helped me see how assumptions about the data shape the decision surface.\n",
    "\n",
    "In contrast, Naive Bayes models are used for discrete or categorical data. The Bernoulli version models binary features (presence or absence, yes/no), while the Binomial version models the number of successes in a fixed number of trials. The Multinomial version, often used in text classification, models counts of words or tokens without a fixed limit. Implementing these made me understand that the core idea is always the same estimate P(X∣Y) and use Bayes’ rule to classify, but the choice of distribution depends entirely on the type of data and the information each feature carries.\n",
    "\n",
    "Through coding these models from scratch, I realized how the independence assumptions, the distributional choices, and the estimated parameters directly affect performance and numerical stability. More importantly, I now feel confident about which model to choose for a given dataset and why that assumption makes sense."
   ]
  }
 ],
 "metadata": {
  "kernelspec": {
   "display_name": "Python 3",
   "language": "python",
   "name": "python3"
  },
  "language_info": {
   "codemirror_mode": {
    "name": "ipython",
    "version": 3
   },
   "file_extension": ".py",
   "mimetype": "text/x-python",
   "name": "python",
   "nbconvert_exporter": "python",
   "pygments_lexer": "ipython3",
   "version": "3.10.18"
  }
 },
 "nbformat": 4,
 "nbformat_minor": 5
}
